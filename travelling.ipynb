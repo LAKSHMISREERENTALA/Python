{
 "cells": [
  {
   "cell_type": "code",
   "execution_count": 10,
   "id": "67b09cfa-02c8-4803-a593-e027b0c4b6e0",
   "metadata": {},
   "outputs": [
    {
     "name": "stdout",
     "output_type": "stream",
     "text": [
      "Shortest Path:145231\n",
      "Minimum Cost:55\n"
     ]
    }
   ],
   "source": [
    "import numpy as np\n",
    "def travel(c):\n",
    "    global cost\n",
    "    adj_vertex=999\n",
    "    min_val=999\n",
    "    visited[c]=1\n",
    "    print((c+1),end=\"\")\n",
    "    for k in range(n):\n",
    "        if(tsp_g[c][k]!=0) and (visited[k]==0):\n",
    "            if tsp_g[c][k]<min_val:\n",
    "                min_val=tsp_g[c][k]\n",
    "                adj_vertex=k\n",
    "    if min_val!=999:\n",
    "        cost=cost+min_val\n",
    "    if adj_vertex==999:\n",
    "        adj_vertex=0\n",
    "        print((adj_vertex+1),end=\"\")\n",
    "        cost=cost+tsp_g[c][adj_vertex]\n",
    "        return\n",
    "    travel(adj_vertex)\n",
    "n=5\n",
    "cost=0\n",
    "visited= np.zeros(n,dtype=int)\n",
    "tsp_g= np.array([[12,30,33,10,45],\n",
    "                [56,22,9,15,18],\n",
    "                [29,13,8,5,12],\n",
    "                [33,28,16,10,3],\n",
    "                [1,4,30,24,20]])\n",
    "print(\"Shortest Path:\",end=\"\")\n",
    "travel(0)\n",
    "print()\n",
    "print(\"Minimum Cost:\",end=\"\")\n",
    "print(cost)"
   ]
  },
  {
   "cell_type": "code",
   "execution_count": null,
   "id": "ee341381-be0f-4a84-8b2b-4ad00662c0f0",
   "metadata": {},
   "outputs": [],
   "source": []
  },
  {
   "cell_type": "code",
   "execution_count": null,
   "id": "272a6048-6a95-40d4-959c-6abac0ef53d3",
   "metadata": {},
   "outputs": [],
   "source": []
  }
 ],
 "metadata": {
  "kernelspec": {
   "display_name": "Python 3 (ipykernel)",
   "language": "python",
   "name": "python3"
  },
  "language_info": {
   "codemirror_mode": {
    "name": "ipython",
    "version": 3
   },
   "file_extension": ".py",
   "mimetype": "text/x-python",
   "name": "python",
   "nbconvert_exporter": "python",
   "pygments_lexer": "ipython3",
   "version": "3.12.3"
  }
 },
 "nbformat": 4,
 "nbformat_minor": 5
}
